{
 "cells": [
  {
   "cell_type": "code",
   "execution_count": 1,
   "id": "9a4995a5",
   "metadata": {},
   "outputs": [],
   "source": [
    "# https://leetcode.com/problems/remove-duplicates-from-sorted-array/\n",
    "\n",
    "class Solution(object):\n",
    "    def removeDuplicates(self, nums):\n",
    "        \"\"\"\n",
    "        :type nums: List[int]\n",
    "        :rtype: intz\n",
    "        \"\"\"\n",
    "        #self.nums = nums\n",
    "        i = 0\n",
    "        for j in range(len(nums)):\n",
    "            if i < 1 or nums[j] != nums[j - 1]: # if 1st != last/previous\n",
    "                nums[i] = nums[j]\n",
    "                i += 1\n",
    "        #print(nums)\n",
    "        return i"
   ]
  },
  {
   "cell_type": "code",
   "execution_count": null,
   "id": "99447333",
   "metadata": {},
   "outputs": [],
   "source": []
  }
 ],
 "metadata": {
  "kernelspec": {
   "display_name": "Python 3",
   "language": "python",
   "name": "python3"
  },
  "language_info": {
   "codemirror_mode": {
    "name": "ipython",
    "version": 3
   },
   "file_extension": ".py",
   "mimetype": "text/x-python",
   "name": "python",
   "nbconvert_exporter": "python",
   "pygments_lexer": "ipython3",
   "version": "3.8.8"
  }
 },
 "nbformat": 4,
 "nbformat_minor": 5
}
